{
  "nbformat": 4,
  "nbformat_minor": 0,
  "metadata": {
    "colab": {
      "provenance": [],
      "include_colab_link": true
    },
    "kernelspec": {
      "name": "python3",
      "display_name": "Python 3"
    },
    "language_info": {
      "name": "python"
    }
  },
  "cells": [
    {
      "cell_type": "markdown",
      "metadata": {
        "id": "view-in-github",
        "colab_type": "text"
      },
      "source": [
        "<a href=\"https://colab.research.google.com/github/RobWamsley/Quantum-Rings-Colab/blob/main/05_Grover's_Algorithm_%7C_Quantum_Rings.ipynb\" target=\"_parent\"><img src=\"https://colab.research.google.com/assets/colab-badge.svg\" alt=\"Open In Colab\"/></a>"
      ]
    },
    {
      "cell_type": "markdown",
      "source": [
        "# Grover’s Search Algorithm\n",
        "In 1996 Lov Grover introduced a novel search algorithm which exhibits quadratic speedup and uses a technique called amplitude amplification. Imagine that we are given a printed phone book and asked to find to whom a particular phone number is associated. Phone directories are usually arranged alpabetically. We have to go through each entry in the phone directory to determine whom the phone number belongs.\n",
        "\n",
        "This Sample code implements Grovers, following the explination in the Quantum Rings Documentation on Grover's Algorithm here:\n",
        "https://www.quantumrings.com/doc/Grovers.html"
      ],
      "metadata": {
        "id": "Q7yJ_v4226lK"
      }
    },
    {
      "cell_type": "code",
      "source": [
        "!pip install QuantumRingsLib"
      ],
      "metadata": {
        "colab": {
          "base_uri": "https://localhost:8080/"
        },
        "id": "uNLD0mOqoJ9y",
        "outputId": "7be4df3a-73db-44d7-a6b1-14d9cf0bb5f8"
      },
      "execution_count": null,
      "outputs": [
        {
          "output_type": "stream",
          "name": "stdout",
          "text": [
            "Collecting QuantumRingsLib\n",
            "  Downloading QuantumRingsLib-0.6.10-cp310-cp310-manylinux_2_34_x86_64.whl.metadata (20 kB)\n",
            "Downloading QuantumRingsLib-0.6.10-cp310-cp310-manylinux_2_34_x86_64.whl (1.5 MB)\n",
            "\u001b[2K   \u001b[90m━━━━━━━━━━━━━━━━━━━━━━━━━━━━━━━━━━━━━━━━\u001b[0m \u001b[32m1.5/1.5 MB\u001b[0m \u001b[31m16.6 MB/s\u001b[0m eta \u001b[36m0:00:00\u001b[0m\n",
            "\u001b[?25hInstalling collected packages: QuantumRingsLib\n",
            "Successfully installed QuantumRingsLib-0.6.10\n"
          ]
        }
      ]
    },
    {
      "cell_type": "code",
      "source": [
        "import QuantumRingsLib\n",
        "from QuantumRingsLib import QuantumRegister, AncillaRegister, ClassicalRegister, QuantumCircuit\n",
        "from QuantumRingsLib import QuantumRingsProvider\n",
        "from QuantumRingsLib import job_monitor\n",
        "from QuantumRingsLib import JobStatus\n",
        "from QuantumRingsLib import qasm2\n",
        "from QuantumRingsLib import OptimizeQuantumCircuit\n",
        "from matplotlib import pyplot as plt\n",
        "import numpy as np\n",
        "import math\n",
        "import time"
      ],
      "metadata": {
        "id": "IpSM4hkUoROp"
      },
      "execution_count": null,
      "outputs": []
    },
    {
      "cell_type": "code",
      "source": [
        "from google.colab import userdata\n",
        "email = userdata.get('api_email')\n",
        "key = userdata.get('api_key')\n",
        "\n",
        "provider = QuantumRingsProvider(token=key, name=email)\n",
        "backend = provider.get_backend(\"scarlet_quantum_rings\")\n",
        "\n",
        "acct = provider.active_account()"
      ],
      "metadata": {
        "id": "6AAbmakfoWO6"
      },
      "execution_count": 5,
      "outputs": []
    },
    {
      "cell_type": "code",
      "source": [
        "\n"
      ],
      "metadata": {
        "id": "_uzzJTZ5xNw9"
      },
      "execution_count": null,
      "outputs": []
    },
    {
      "cell_type": "code",
      "source": [
        "def ccz(qc, control1, control2, target):\n",
        "    \"\"\"\n",
        "    The CCZ gate or the doubly controlled Z-gate.\n",
        "    This gate flips the phase of the target qubit if the control qubits are in |11> state.\n",
        "\n",
        "    Args:\n",
        "         qc (QuantumCircuit):\n",
        "            The quantum Circuit to use.\n",
        "\n",
        "        control1 (int):\n",
        "            The index number of the first control qubit.\n",
        "\n",
        "        control2 (int):\n",
        "            The index number of the second control qubit.\n",
        "\n",
        "        target (int):\n",
        "            The index number of the target qubit, where the transform is applied\n",
        "\n",
        "    Returns:\n",
        "        None\n",
        "\n",
        "\n",
        "    \"\"\"\n",
        "    qc.h(target)\n",
        "    qc.ccx(control1, control2, target)\n",
        "    qc.h(target)\n",
        "    return\n",
        "\n",
        "\n",
        "def cccx(qc,control1, control2, control3, anc, target):\n",
        "    \"\"\"\n",
        "    The three control Toffoli gate.\n",
        "    An X gate is applied to the target qubit, if the control qubits are in state |111>.\n",
        "\n",
        "    Args:\n",
        "        qc (QuantumCircuit):\n",
        "            The quantum Circuit to use.\n",
        "\n",
        "        control1 (int):\n",
        "            The index number of the first control qubit.\n",
        "\n",
        "        control2 (int):\n",
        "            The index number of the second control qubit.\n",
        "\n",
        "        control3 (int):\n",
        "            The index number of the third control qubit\n",
        "\n",
        "        anc (int):\n",
        "            The index number of a temporary worker qubit\n",
        "\n",
        "        target (int):\n",
        "            The index number of the target qubit, where the transform is applied\n",
        "\n",
        "    Returns:\n",
        "        None\n",
        "    \"\"\"\n",
        "    qc.ccx(control1, control2, anc)\n",
        "    qc.ccx(control3, anc, target)\n",
        "    qc.ccx(control1, control2, anc)\n",
        "    qc.ccx(control3, anc, target)\n",
        "    return\n",
        "\n",
        "\n",
        "\n",
        "def grover_oracle( qc, x0, x1, x2, anc, y):\n",
        "    \"\"\"\n",
        "    The Grover's Oracle\n",
        "\n",
        "    Args:\n",
        "        qc (QuantumCircuit):\n",
        "            The quantum Circuit to use.\n",
        "\n",
        "        x0 (int):\n",
        "            The index number of the first qubit of the x register.\n",
        "\n",
        "        x1 (int):\n",
        "            The index number of the second qubit of the x register.\n",
        "\n",
        "        x2 (int):\n",
        "            The index number of the third qubit of the x register.\n",
        "\n",
        "        anc (int):\n",
        "            The index number of a temporary work qubit\n",
        "\n",
        "        y (int):\n",
        "            The index number of the target qubit, where the transform is applied\n",
        "\n",
        "    Returns:\n",
        "        None.\n",
        "\n",
        "    \"\"\"\n",
        "    qc.x(x2)\n",
        "    qc.x(x0)\n",
        "    cccx(qc, x0, x1, x2, anc, y)\n",
        "    qc.x(x0)\n",
        "    qc.x(x2)\n",
        "\n",
        "\n",
        "\n",
        "def grover_diffusion_operator(qc, x0, x1, x2, y):\n",
        "    \"\"\"\n",
        "    The 3-qubit diffusion operator for Grover's algorith.\n",
        "\n",
        "    Args:\n",
        "        x0 (int):\n",
        "            The index number of the first qubit of the x register.\n",
        "\n",
        "        x1 (int):\n",
        "            The index number of the second qubit of the x register.\n",
        "\n",
        "        x2 (int):\n",
        "            The index number of the third qubit of the x register.\n",
        "\n",
        "        y (int):\n",
        "            The index number of the target qubit, where the transform is applied\n",
        "\n",
        "    Returns:\n",
        "        None.\n",
        "\n",
        "\n",
        "    \"\"\"\n",
        "\n",
        "    qc.h(x0)\n",
        "    qc.h(x1)\n",
        "    qc.h(x2)\n",
        "    qc.h(y) # Bring this back to state 1 for next stages\n",
        "    qc.x(x0)\n",
        "    qc.x(x1)\n",
        "    qc.x(x2)\n",
        "    ccz(qc, x0, x1, x2 )\n",
        "    qc.x(x0)\n",
        "    qc.x(x1)\n",
        "    qc.x(x2)\n",
        "    qc.h(x0)\n",
        "    qc.h(x1)\n",
        "    qc.h(x2)\n",
        "\n",
        "\n",
        "\n",
        "def plot_histogram (counts, title=\"\"):\n",
        "    \"\"\"\n",
        "    Plots the histogram of the counts\n",
        "\n",
        "    Args:\n",
        "\n",
        "        counts (dict):\n",
        "            The dictionary containing the counts of states\n",
        "\n",
        "        titles (str):\n",
        "            A title for the graph.\n",
        "\n",
        "    Returns:\n",
        "        None\n",
        "\n",
        "    \"\"\"\n",
        "    fig, ax = plt.subplots(figsize =(10, 7))\n",
        "    plt.xlabel(\"States\")\n",
        "    plt.ylabel(\"Counts\")\n",
        "    mylist = [key for key, val in counts.items() for _ in range(val)]\n",
        "\n",
        "    unique, inverse = np.unique(mylist, return_inverse=True)\n",
        "    bin_counts = np.bincount(inverse)\n",
        "\n",
        "    plt.bar(unique, bin_counts)\n",
        "\n",
        "    maxFreq = max(counts.values())\n",
        "    plt.ylim(ymax=np.ceil(maxFreq / 10) * 10 if maxFreq % 10 else maxFreq + 10)\n",
        "    # Show plot\n",
        "    plt.title(title)\n",
        "    plt.show()\n",
        "    return\n"
      ],
      "metadata": {
        "id": "B6oXXbWfovLn"
      },
      "execution_count": 6,
      "outputs": []
    },
    {
      "cell_type": "markdown",
      "source": [
        "### Execute the circuit\n",
        "\n",
        "Note that I'm only running 1 \"shot\", again, because this is on free compute, but normally you would run thousands of shots."
      ],
      "metadata": {
        "id": "euFSukbqoyFx"
      }
    },
    {
      "cell_type": "code",
      "source": [
        "\n",
        "shots = 100\n",
        "\n",
        "#\n",
        "# Grover's algorithm\n",
        "#\n",
        "q = QuantumRegister(3 , 'x')\n",
        "y = QuantumRegister(1 , 'y')\n",
        "anc = QuantumRegister(1 , 'a')\n",
        "c = ClassicalRegister(3 , 'c')\n",
        "qc = QuantumCircuit(q, y, anc, c)\n",
        "\n",
        "qc.x(y[0])\n",
        "qc.h(q[0])\n",
        "qc.h(q[1])\n",
        "qc.h(q[2])\n",
        "qc.h(y[0])\n",
        "\n",
        "grover_oracle (qc, q[0], q[1], q[2], anc[0], y[0])\n",
        "grover_diffusion_operator (qc, q[0], q[1], q[2], y[0])\n",
        "\n",
        "grover_oracle (qc, q[0], q[1], q[2], anc[0], y[0])\n",
        "grover_diffusion_operator (qc, q[0], q[1], q[2], y[0])\n",
        "\n",
        "grover_oracle (qc, q[0], q[1], q[2], anc[0], y[0])\n",
        "grover_diffusion_operator (qc, q[0], q[1], q[2], y[0])\n",
        "\n",
        "qc.measure(q[0],c[0])\n",
        "qc.measure(q[1],c[1])\n",
        "qc.measure(q[2],c[2])\n",
        "\n",
        "job = backend.run(qc, shots)\n",
        "job_monitor(job)\n",
        "result = job.result()\n",
        "counts = result.get_counts()\n",
        "print (counts)\n",
        "\n",
        "del q, y, anc\n",
        "del c\n",
        "del qc\n",
        "del result\n",
        "del job\n",
        "\n",
        "plot_histogram(counts, \"\")"
      ],
      "metadata": {
        "colab": {
          "base_uri": "https://localhost:8080/",
          "height": 688
        },
        "id": "Xd4TnsS1oyeA",
        "outputId": "8b8bd6ad-bfcb-490e-d285-1f2895ed3c2e"
      },
      "execution_count": 7,
      "outputs": [
        {
          "output_type": "stream",
          "name": "stdout",
          "text": [
            "Job Running\n",
            "Job Done.\n",
            "Ending Job Monitor\n",
            "{'010': 100}\n"
          ]
        },
        {
          "output_type": "display_data",
          "data": {
            "text/plain": [
              "<Figure size 1000x700 with 1 Axes>"
            ],
            "image/png": "[encoded data removed]"
          },
          "metadata": {}
        }
      ]
    }
  ]
}